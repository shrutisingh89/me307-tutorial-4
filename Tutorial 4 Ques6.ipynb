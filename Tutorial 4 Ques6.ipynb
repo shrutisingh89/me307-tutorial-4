{
 "cells": [
  {
   "cell_type": "markdown",
   "metadata": {},
   "source": [
    "# TUTORIAL 4"
   ]
  },
  {
   "cell_type": "markdown",
   "metadata": {},
   "source": [
    "## Question 6                            \n",
    "Shruti Singh\n",
    "180003053"
   ]
  },
  {
   "cell_type": "code",
   "execution_count": 6,
   "metadata": {},
   "outputs": [],
   "source": [
    "import pandas as pd\n",
    "import numpy as np"
   ]
  },
  {
   "cell_type": "markdown",
   "metadata": {},
   "source": [
    "#### P1:"
   ]
  },
  {
   "cell_type": "markdown",
   "metadata": {},
   "source": [
    "“Exotech Computers” manufactures computer components such as chips,\n",
    "circuit boards, motherboards, keyboards, LCD panels, and the like and sells\n",
    "them around the world. It wants to construct a new warehouse/distribution\n",
    "canter in Asia to serve emerging Asian markets. It has identified sites in\n",
    "Shanghai, Hong Kong, and Singapore and has rated the important location\n",
    "factors for each site as follows:"
   ]
  },
  {
   "cell_type": "code",
   "execution_count": 7,
   "metadata": {},
   "outputs": [
    {
     "data": {
      "text/html": [
       "<div>\n",
       "<style scoped>\n",
       "    .dataframe tbody tr th:only-of-type {\n",
       "        vertical-align: middle;\n",
       "    }\n",
       "\n",
       "    .dataframe tbody tr th {\n",
       "        vertical-align: top;\n",
       "    }\n",
       "\n",
       "    .dataframe thead th {\n",
       "        text-align: right;\n",
       "    }\n",
       "</style>\n",
       "<table border=\"1\" class=\"dataframe\">\n",
       "  <thead>\n",
       "    <tr style=\"text-align: right;\">\n",
       "      <th></th>\n",
       "      <th>Location Factors</th>\n",
       "      <th>Weight</th>\n",
       "      <th>Shanghai</th>\n",
       "      <th>Hong Kong</th>\n",
       "      <th>Singapore</th>\n",
       "    </tr>\n",
       "  </thead>\n",
       "  <tbody>\n",
       "    <tr>\n",
       "      <th>0</th>\n",
       "      <td>Political stability</td>\n",
       "      <td>0.25</td>\n",
       "      <td>50</td>\n",
       "      <td>80</td>\n",
       "      <td>90</td>\n",
       "    </tr>\n",
       "    <tr>\n",
       "      <th>1</th>\n",
       "      <td>Economic growth</td>\n",
       "      <td>0.18</td>\n",
       "      <td>90</td>\n",
       "      <td>80</td>\n",
       "      <td>75</td>\n",
       "    </tr>\n",
       "    <tr>\n",
       "      <th>2</th>\n",
       "      <td>Port facilities</td>\n",
       "      <td>0.15</td>\n",
       "      <td>60</td>\n",
       "      <td>95</td>\n",
       "      <td>90</td>\n",
       "    </tr>\n",
       "    <tr>\n",
       "      <th>3</th>\n",
       "      <td>Container support</td>\n",
       "      <td>0.10</td>\n",
       "      <td>50</td>\n",
       "      <td>80</td>\n",
       "      <td>90</td>\n",
       "    </tr>\n",
       "    <tr>\n",
       "      <th>4</th>\n",
       "      <td>Land and construction cost</td>\n",
       "      <td>0.08</td>\n",
       "      <td>90</td>\n",
       "      <td>50</td>\n",
       "      <td>30</td>\n",
       "    </tr>\n",
       "    <tr>\n",
       "      <th>5</th>\n",
       "      <td>Transportation/distribution</td>\n",
       "      <td>0.08</td>\n",
       "      <td>50</td>\n",
       "      <td>80</td>\n",
       "      <td>70</td>\n",
       "    </tr>\n",
       "    <tr>\n",
       "      <th>6</th>\n",
       "      <td>Duties and tariffs</td>\n",
       "      <td>0.07</td>\n",
       "      <td>70</td>\n",
       "      <td>90</td>\n",
       "      <td>90</td>\n",
       "    </tr>\n",
       "    <tr>\n",
       "      <th>7</th>\n",
       "      <td>Trade regulations</td>\n",
       "      <td>0.05</td>\n",
       "      <td>70</td>\n",
       "      <td>95</td>\n",
       "      <td>95</td>\n",
       "    </tr>\n",
       "    <tr>\n",
       "      <th>8</th>\n",
       "      <td>Airline service</td>\n",
       "      <td>0.02</td>\n",
       "      <td>60</td>\n",
       "      <td>80</td>\n",
       "      <td>70</td>\n",
       "    </tr>\n",
       "    <tr>\n",
       "      <th>9</th>\n",
       "      <td>Area roads</td>\n",
       "      <td>0.02</td>\n",
       "      <td>60</td>\n",
       "      <td>70</td>\n",
       "      <td>80</td>\n",
       "    </tr>\n",
       "  </tbody>\n",
       "</table>\n",
       "</div>"
      ],
      "text/plain": [
       "              Location Factors  Weight  Shanghai  Hong Kong  Singapore\n",
       "0          Political stability    0.25        50         80         90\n",
       "1              Economic growth    0.18        90         80         75\n",
       "2              Port facilities    0.15        60         95         90\n",
       "3            Container support    0.10        50         80         90\n",
       "4   Land and construction cost    0.08        90         50         30\n",
       "5  Transportation/distribution    0.08        50         80         70\n",
       "6           Duties and tariffs    0.07        70         90         90\n",
       "7            Trade regulations    0.05        70         95         95\n",
       "8              Airline service    0.02        60         80         70\n",
       "9                   Area roads    0.02        60         70         80"
      ]
     },
     "execution_count": 7,
     "metadata": {},
     "output_type": "execute_result"
    }
   ],
   "source": [
    "data1 = {'Location Factors': ['Political stability','Economic growth','Port facilities','Container support','Land and construction cost','Transportation/distribution','Duties and tariffs','Trade regulations','Airline service','Area roads'],\n",
    "        'Weight': [.25,.18,.15,.1,.08,.08,.07,.05,.02,.02],\n",
    "         'Shanghai':[50,90,60,50,90,50,70,70,60,60],\n",
    "         'Hong Kong':[80,80,95,80,50,80,90,95,80,70],\n",
    "         'Singapore':[90,75,90,90,30,70,90,95,70,80]\n",
    "        }\n",
    "df1 = pd.DataFrame(data1, columns = ['Location Factors','Weight','Shanghai','Hong Kong','Singapore'])\n",
    "df1"
   ]
  },
  {
   "cell_type": "code",
   "execution_count": 8,
   "metadata": {},
   "outputs": [
    {
     "data": {
      "text/html": [
       "<div>\n",
       "<style scoped>\n",
       "    .dataframe tbody tr th:only-of-type {\n",
       "        vertical-align: middle;\n",
       "    }\n",
       "\n",
       "    .dataframe tbody tr th {\n",
       "        vertical-align: top;\n",
       "    }\n",
       "\n",
       "    .dataframe thead th {\n",
       "        text-align: right;\n",
       "    }\n",
       "</style>\n",
       "<table border=\"1\" class=\"dataframe\">\n",
       "  <thead>\n",
       "    <tr style=\"text-align: right;\">\n",
       "      <th></th>\n",
       "      <th>Location Factors</th>\n",
       "      <th>Weight</th>\n",
       "      <th>Shanghai</th>\n",
       "      <th>Hong Kong</th>\n",
       "      <th>Singapore</th>\n",
       "      <th>Shanghai_ws</th>\n",
       "      <th>Hong Kong_ws</th>\n",
       "      <th>Singapore_ws</th>\n",
       "    </tr>\n",
       "  </thead>\n",
       "  <tbody>\n",
       "    <tr>\n",
       "      <th>0</th>\n",
       "      <td>Political stability</td>\n",
       "      <td>0.25</td>\n",
       "      <td>50</td>\n",
       "      <td>80</td>\n",
       "      <td>90</td>\n",
       "      <td>12.5</td>\n",
       "      <td>20.00</td>\n",
       "      <td>22.50</td>\n",
       "    </tr>\n",
       "    <tr>\n",
       "      <th>1</th>\n",
       "      <td>Economic growth</td>\n",
       "      <td>0.18</td>\n",
       "      <td>90</td>\n",
       "      <td>80</td>\n",
       "      <td>75</td>\n",
       "      <td>16.2</td>\n",
       "      <td>14.40</td>\n",
       "      <td>13.50</td>\n",
       "    </tr>\n",
       "    <tr>\n",
       "      <th>2</th>\n",
       "      <td>Port facilities</td>\n",
       "      <td>0.15</td>\n",
       "      <td>60</td>\n",
       "      <td>95</td>\n",
       "      <td>90</td>\n",
       "      <td>9.0</td>\n",
       "      <td>14.25</td>\n",
       "      <td>13.50</td>\n",
       "    </tr>\n",
       "    <tr>\n",
       "      <th>3</th>\n",
       "      <td>Container support</td>\n",
       "      <td>0.10</td>\n",
       "      <td>50</td>\n",
       "      <td>80</td>\n",
       "      <td>90</td>\n",
       "      <td>5.0</td>\n",
       "      <td>8.00</td>\n",
       "      <td>9.00</td>\n",
       "    </tr>\n",
       "    <tr>\n",
       "      <th>4</th>\n",
       "      <td>Land and construction cost</td>\n",
       "      <td>0.08</td>\n",
       "      <td>90</td>\n",
       "      <td>50</td>\n",
       "      <td>30</td>\n",
       "      <td>7.2</td>\n",
       "      <td>4.00</td>\n",
       "      <td>2.40</td>\n",
       "    </tr>\n",
       "    <tr>\n",
       "      <th>5</th>\n",
       "      <td>Transportation/distribution</td>\n",
       "      <td>0.08</td>\n",
       "      <td>50</td>\n",
       "      <td>80</td>\n",
       "      <td>70</td>\n",
       "      <td>4.0</td>\n",
       "      <td>6.40</td>\n",
       "      <td>5.60</td>\n",
       "    </tr>\n",
       "    <tr>\n",
       "      <th>6</th>\n",
       "      <td>Duties and tariffs</td>\n",
       "      <td>0.07</td>\n",
       "      <td>70</td>\n",
       "      <td>90</td>\n",
       "      <td>90</td>\n",
       "      <td>4.9</td>\n",
       "      <td>6.30</td>\n",
       "      <td>6.30</td>\n",
       "    </tr>\n",
       "    <tr>\n",
       "      <th>7</th>\n",
       "      <td>Trade regulations</td>\n",
       "      <td>0.05</td>\n",
       "      <td>70</td>\n",
       "      <td>95</td>\n",
       "      <td>95</td>\n",
       "      <td>3.5</td>\n",
       "      <td>4.75</td>\n",
       "      <td>4.75</td>\n",
       "    </tr>\n",
       "    <tr>\n",
       "      <th>8</th>\n",
       "      <td>Airline service</td>\n",
       "      <td>0.02</td>\n",
       "      <td>60</td>\n",
       "      <td>80</td>\n",
       "      <td>70</td>\n",
       "      <td>1.2</td>\n",
       "      <td>1.60</td>\n",
       "      <td>1.40</td>\n",
       "    </tr>\n",
       "    <tr>\n",
       "      <th>9</th>\n",
       "      <td>Area roads</td>\n",
       "      <td>0.02</td>\n",
       "      <td>60</td>\n",
       "      <td>70</td>\n",
       "      <td>80</td>\n",
       "      <td>1.2</td>\n",
       "      <td>1.40</td>\n",
       "      <td>1.60</td>\n",
       "    </tr>\n",
       "  </tbody>\n",
       "</table>\n",
       "</div>"
      ],
      "text/plain": [
       "              Location Factors  Weight  Shanghai  Hong Kong  Singapore  \\\n",
       "0          Political stability    0.25        50         80         90   \n",
       "1              Economic growth    0.18        90         80         75   \n",
       "2              Port facilities    0.15        60         95         90   \n",
       "3            Container support    0.10        50         80         90   \n",
       "4   Land and construction cost    0.08        90         50         30   \n",
       "5  Transportation/distribution    0.08        50         80         70   \n",
       "6           Duties and tariffs    0.07        70         90         90   \n",
       "7            Trade regulations    0.05        70         95         95   \n",
       "8              Airline service    0.02        60         80         70   \n",
       "9                   Area roads    0.02        60         70         80   \n",
       "\n",
       "   Shanghai_ws  Hong Kong_ws  Singapore_ws  \n",
       "0         12.5         20.00         22.50  \n",
       "1         16.2         14.40         13.50  \n",
       "2          9.0         14.25         13.50  \n",
       "3          5.0          8.00          9.00  \n",
       "4          7.2          4.00          2.40  \n",
       "5          4.0          6.40          5.60  \n",
       "6          4.9          6.30          6.30  \n",
       "7          3.5          4.75          4.75  \n",
       "8          1.2          1.60          1.40  \n",
       "9          1.2          1.40          1.60  "
      ]
     },
     "execution_count": 8,
     "metadata": {},
     "output_type": "execute_result"
    }
   ],
   "source": [
    "df1['Shanghai_ws']=df1['Weight']*df1['Shanghai']\n",
    "df1['Hong Kong_ws']=df1['Weight']*df1['Hong Kong']\n",
    "df1['Singapore_ws']=df1['Weight']*df1['Singapore']\n",
    "df1"
   ]
  },
  {
   "cell_type": "code",
   "execution_count": 9,
   "metadata": {},
   "outputs": [
    {
     "name": "stdout",
     "output_type": "stream",
     "text": [
      "Shanghai Score: 64.7 \t HongKong Score: 81.1 \t Singapore Score: 80.55\n"
     ]
    }
   ],
   "source": [
    "Shanghai_score=df1['Shanghai_ws'].sum()\n",
    "HongKong_score=df1['Hong Kong_ws'].sum()\n",
    "Singapore_score=df1['Singapore_ws'].sum()\n",
    "print('Shanghai Score:',Shanghai_score,'\\t','HongKong Score:',HongKong_score,'\\t','Singapore Score:',Singapore_score)"
   ]
  },
  {
   "cell_type": "markdown",
   "metadata": {},
   "source": [
    "##### Since Hong Kong has the highest score, it is the recommended site."
   ]
  },
  {
   "cell_type": "markdown",
   "metadata": {},
   "source": [
    "#### P2:"
   ]
  },
  {
   "cell_type": "markdown",
   "metadata": {},
   "source": [
    "Mega-Mart, a discount store chain, wants to build a new superstore in an\n",
    "area in southwest Virginia near four small towns with populations between\n",
    "8000 and 42, 000. The coordinates (in miles) of these four towns and the\n",
    "market population in each are as follows:"
   ]
  },
  {
   "cell_type": "code",
   "execution_count": 10,
   "metadata": {},
   "outputs": [
    {
     "data": {
      "text/html": [
       "<div>\n",
       "<style scoped>\n",
       "    .dataframe tbody tr th:only-of-type {\n",
       "        vertical-align: middle;\n",
       "    }\n",
       "\n",
       "    .dataframe tbody tr th {\n",
       "        vertical-align: top;\n",
       "    }\n",
       "\n",
       "    .dataframe thead th {\n",
       "        text-align: right;\n",
       "    }\n",
       "</style>\n",
       "<table border=\"1\" class=\"dataframe\">\n",
       "  <thead>\n",
       "    <tr style=\"text-align: right;\">\n",
       "      <th></th>\n",
       "      <th>Towns</th>\n",
       "      <th>X</th>\n",
       "      <th>Y</th>\n",
       "      <th>W</th>\n",
       "    </tr>\n",
       "  </thead>\n",
       "  <tbody>\n",
       "    <tr>\n",
       "      <th>0</th>\n",
       "      <td>Whitesburg</td>\n",
       "      <td>12</td>\n",
       "      <td>20</td>\n",
       "      <td>26000</td>\n",
       "    </tr>\n",
       "    <tr>\n",
       "      <th>1</th>\n",
       "      <td>Altonville</td>\n",
       "      <td>18</td>\n",
       "      <td>18</td>\n",
       "      <td>14000</td>\n",
       "    </tr>\n",
       "    <tr>\n",
       "      <th>2</th>\n",
       "      <td>Campburg</td>\n",
       "      <td>30</td>\n",
       "      <td>7</td>\n",
       "      <td>9500</td>\n",
       "    </tr>\n",
       "    <tr>\n",
       "      <th>3</th>\n",
       "      <td>Milligan</td>\n",
       "      <td>32</td>\n",
       "      <td>25</td>\n",
       "      <td>12000</td>\n",
       "    </tr>\n",
       "  </tbody>\n",
       "</table>\n",
       "</div>"
      ],
      "text/plain": [
       "        Towns   X   Y      W\n",
       "0  Whitesburg  12  20  26000\n",
       "1  Altonville  18  18  14000\n",
       "2    Campburg  30   7   9500\n",
       "3    Milligan  32  25  12000"
      ]
     },
     "execution_count": 10,
     "metadata": {},
     "output_type": "execute_result"
    }
   ],
   "source": [
    "data2={'Towns':['Whitesburg','Altonville','Campburg','Milligan'],\n",
    "       'X':[12,18,30,32],\n",
    "       'Y':[20,18,7,25],\n",
    "       'W':[26000,14000,9500,12000]\n",
    "      }\n",
    "df2 = pd.DataFrame(data2, columns = ['Towns','X','Y','W'])\n",
    "df2"
   ]
  },
  {
   "cell_type": "code",
   "execution_count": 11,
   "metadata": {},
   "outputs": [
    {
     "name": "stdout",
     "output_type": "stream",
     "text": [
      "Using Centre of Gravity, The required coordinates are:( 20.048780487804876 , 18.51219512195122 )\n"
     ]
    }
   ],
   "source": [
    "X_cog= (df2.X * df2.W).sum()/df2.W.sum()\n",
    "Y_cog= (df2.Y * df2.W).sum()/df2.W.sum()\n",
    "print(\"Using Centre of Gravity, The required coordinates are:(\",X_cog,\",\",Y_cog,\")\")"
   ]
  },
  {
   "cell_type": "markdown",
   "metadata": {},
   "source": [
    "#### P3:"
   ]
  },
  {
   "cell_type": "markdown",
   "metadata": {},
   "source": [
    "An army division in Iraq has five troop encampments in the desert, and the\n",
    "division leaders want to determine the best location for a supply to serve the\n",
    "camps. The (x, y) coordinates (in miles) of the camps, A, B, C D, and E, and\n",
    "the daily amount of supplies (in tons) required at each camp are as follows:"
   ]
  },
  {
   "cell_type": "code",
   "execution_count": 12,
   "metadata": {},
   "outputs": [
    {
     "data": {
      "text/html": [
       "<div>\n",
       "<style scoped>\n",
       "    .dataframe tbody tr th:only-of-type {\n",
       "        vertical-align: middle;\n",
       "    }\n",
       "\n",
       "    .dataframe tbody tr th {\n",
       "        vertical-align: top;\n",
       "    }\n",
       "\n",
       "    .dataframe thead th {\n",
       "        text-align: right;\n",
       "    }\n",
       "</style>\n",
       "<table border=\"1\" class=\"dataframe\">\n",
       "  <thead>\n",
       "    <tr style=\"text-align: right;\">\n",
       "      <th></th>\n",
       "      <th>Camp</th>\n",
       "      <th>X</th>\n",
       "      <th>Y</th>\n",
       "      <th>DailyTonnage</th>\n",
       "    </tr>\n",
       "  </thead>\n",
       "  <tbody>\n",
       "    <tr>\n",
       "      <th>0</th>\n",
       "      <td>A</td>\n",
       "      <td>110</td>\n",
       "      <td>120</td>\n",
       "      <td>85</td>\n",
       "    </tr>\n",
       "    <tr>\n",
       "      <th>1</th>\n",
       "      <td>B</td>\n",
       "      <td>70</td>\n",
       "      <td>300</td>\n",
       "      <td>110</td>\n",
       "    </tr>\n",
       "    <tr>\n",
       "      <th>2</th>\n",
       "      <td>C</td>\n",
       "      <td>520</td>\n",
       "      <td>350</td>\n",
       "      <td>75</td>\n",
       "    </tr>\n",
       "    <tr>\n",
       "      <th>3</th>\n",
       "      <td>D</td>\n",
       "      <td>300</td>\n",
       "      <td>450</td>\n",
       "      <td>60</td>\n",
       "    </tr>\n",
       "    <tr>\n",
       "      <th>4</th>\n",
       "      <td>E</td>\n",
       "      <td>400</td>\n",
       "      <td>600</td>\n",
       "      <td>100</td>\n",
       "    </tr>\n",
       "  </tbody>\n",
       "</table>\n",
       "</div>"
      ],
      "text/plain": [
       "  Camp    X    Y  DailyTonnage\n",
       "0    A  110  120            85\n",
       "1    B   70  300           110\n",
       "2    C  520  350            75\n",
       "3    D  300  450            60\n",
       "4    E  400  600           100"
      ]
     },
     "execution_count": 12,
     "metadata": {},
     "output_type": "execute_result"
    }
   ],
   "source": [
    "data3={'Camp':['A','B','C','D','E'],\n",
    "       'X':[110,70,520,300,400],\n",
    "       'Y':[120,300,350,450,600],\n",
    "       'DailyTonnage':[85,110,75,60,100]\n",
    "      }\n",
    "df3 = pd.DataFrame(data3, columns = ['Camp','X','Y','DailyTonnage'])\n",
    "df3"
   ]
  },
  {
   "cell_type": "code",
   "execution_count": 13,
   "metadata": {},
   "outputs": [
    {
     "name": "stdout",
     "output_type": "stream",
     "text": [
      "Using Centre of Gravity, The required coordinates are:( 265.2325581395349 , 363.83720930232556 )\n"
     ]
    }
   ],
   "source": [
    "X_cog= (df3.X * df3.DailyTonnage).sum()/df3.DailyTonnage.sum()\n",
    "Y_cog= (df3.Y * df3.DailyTonnage).sum()/df3.DailyTonnage.sum()\n",
    "print(\"Using Centre of Gravity, The required coordinates are:(\",X_cog,\",\",Y_cog,\")\")"
   ]
  },
  {
   "cell_type": "markdown",
   "metadata": {},
   "source": [
    "#### P4:"
   ]
  },
  {
   "cell_type": "markdown",
   "metadata": {},
   "source": [
    "In P3, suppose the division commanders are limited to three possible sites for\n",
    "the supply depot because of airfield locations and enemy troop\n",
    "concentrations. The coordinates (in miles) of these three potential sites are:\n",
    "site 1 (400, 250), site 2 (100, 200) and site 3 (200, 500). Using the load-distance\n",
    "technique, determine the best site for the depot."
   ]
  },
  {
   "cell_type": "code",
   "execution_count": 14,
   "metadata": {},
   "outputs": [
    {
     "data": {
      "text/html": [
       "<div>\n",
       "<style scoped>\n",
       "    .dataframe tbody tr th:only-of-type {\n",
       "        vertical-align: middle;\n",
       "    }\n",
       "\n",
       "    .dataframe tbody tr th {\n",
       "        vertical-align: top;\n",
       "    }\n",
       "\n",
       "    .dataframe thead th {\n",
       "        text-align: right;\n",
       "    }\n",
       "</style>\n",
       "<table border=\"1\" class=\"dataframe\">\n",
       "  <thead>\n",
       "    <tr style=\"text-align: right;\">\n",
       "      <th></th>\n",
       "      <th>Camp</th>\n",
       "      <th>X</th>\n",
       "      <th>Y</th>\n",
       "      <th>DailyTonnage</th>\n",
       "      <th>Site1</th>\n",
       "      <th>Site2</th>\n",
       "      <th>Site3</th>\n",
       "    </tr>\n",
       "  </thead>\n",
       "  <tbody>\n",
       "    <tr>\n",
       "      <th>0</th>\n",
       "      <td>A</td>\n",
       "      <td>110</td>\n",
       "      <td>120</td>\n",
       "      <td>85</td>\n",
       "      <td>317.804972</td>\n",
       "      <td>80.622577</td>\n",
       "      <td>390.512484</td>\n",
       "    </tr>\n",
       "    <tr>\n",
       "      <th>1</th>\n",
       "      <td>B</td>\n",
       "      <td>70</td>\n",
       "      <td>300</td>\n",
       "      <td>110</td>\n",
       "      <td>333.766385</td>\n",
       "      <td>104.403065</td>\n",
       "      <td>238.537209</td>\n",
       "    </tr>\n",
       "    <tr>\n",
       "      <th>2</th>\n",
       "      <td>C</td>\n",
       "      <td>520</td>\n",
       "      <td>350</td>\n",
       "      <td>75</td>\n",
       "      <td>156.204994</td>\n",
       "      <td>445.982062</td>\n",
       "      <td>353.411941</td>\n",
       "    </tr>\n",
       "    <tr>\n",
       "      <th>3</th>\n",
       "      <td>D</td>\n",
       "      <td>300</td>\n",
       "      <td>450</td>\n",
       "      <td>60</td>\n",
       "      <td>223.606798</td>\n",
       "      <td>320.156212</td>\n",
       "      <td>111.803399</td>\n",
       "    </tr>\n",
       "    <tr>\n",
       "      <th>4</th>\n",
       "      <td>E</td>\n",
       "      <td>400</td>\n",
       "      <td>600</td>\n",
       "      <td>100</td>\n",
       "      <td>350.000000</td>\n",
       "      <td>500.000000</td>\n",
       "      <td>223.606798</td>\n",
       "    </tr>\n",
       "  </tbody>\n",
       "</table>\n",
       "</div>"
      ],
      "text/plain": [
       "  Camp    X    Y  DailyTonnage       Site1       Site2       Site3\n",
       "0    A  110  120            85  317.804972   80.622577  390.512484\n",
       "1    B   70  300           110  333.766385  104.403065  238.537209\n",
       "2    C  520  350            75  156.204994  445.982062  353.411941\n",
       "3    D  300  450            60  223.606798  320.156212  111.803399\n",
       "4    E  400  600           100  350.000000  500.000000  223.606798"
      ]
     },
     "execution_count": 14,
     "metadata": {},
     "output_type": "execute_result"
    }
   ],
   "source": [
    "sites=[(400,250),(100,200),(200,500)]\n",
    "df3['Site1']=np.sqrt((df3.X-sites[0][0])**2 + (df3.Y-sites[0][1])**2)\n",
    "df3['Site2']=np.sqrt((df3.X-sites[1][0])**2 + (df3.Y-sites[1][1])**2)\n",
    "df3['Site3']=np.sqrt((df3.X-sites[2][0])**2 + (df3.Y-sites[2][1])**2)\n",
    "df3"
   ]
  },
  {
   "cell_type": "code",
   "execution_count": 15,
   "metadata": {},
   "outputs": [
    {
     "name": "stdout",
     "output_type": "stream",
     "text": [
      "Site 1 Score: 123859.50735859192 \t Site 2 Score: 120995.28363962055 \t Site 3 Score: 115007.43337283743\n"
     ]
    }
   ],
   "source": [
    "Site1_score=(df3.Site1 * df3.DailyTonnage).sum()\n",
    "Site2_score=(df3.Site2 * df3.DailyTonnage).sum()\n",
    "Site3_score=(df3.Site3 * df3.DailyTonnage).sum()\n",
    "print('Site 1 Score:',Site1_score,'\\t','Site 2 Score:',Site2_score,'\\t','Site 3 Score:',Site3_score)"
   ]
  },
  {
   "cell_type": "markdown",
   "metadata": {},
   "source": [
    "##### Since Site 3 has the minimum score, it is the best site for depot."
   ]
  },
  {
   "cell_type": "code",
   "execution_count": null,
   "metadata": {},
   "outputs": [],
   "source": []
  }
 ],
 "metadata": {
  "kernelspec": {
   "display_name": "Python 3",
   "language": "python",
   "name": "python3"
  },
  "language_info": {
   "codemirror_mode": {
    "name": "ipython",
    "version": 3
   },
   "file_extension": ".py",
   "mimetype": "text/x-python",
   "name": "python",
   "nbconvert_exporter": "python",
   "pygments_lexer": "ipython3",
   "version": "3.8.2"
  }
 },
 "nbformat": 4,
 "nbformat_minor": 4
}
